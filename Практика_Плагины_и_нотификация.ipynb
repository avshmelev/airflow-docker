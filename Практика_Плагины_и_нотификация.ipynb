{
  "nbformat": 4,
  "nbformat_minor": 0,
  "metadata": {
    "colab": {
      "name": "Практика: Плагины и нотификация.ipynb",
      "provenance": [],
      "collapsed_sections": [
        "EoYMa2fmLhHp"
      ]
    },
    "kernelspec": {
      "name": "python3",
      "display_name": "Python 3"
    },
    "language_info": {
      "name": "python"
    }
  },
  "cells": [
    {
      "cell_type": "markdown",
      "metadata": {
        "id": "dKVsSmoLVx81"
      },
      "source": [
        "### Настройка окружения\n",
        "\n",
        "Для начала вам необходимо выполнить ряд команд чтобы настроить окружение для дальнейшей работы, это позволит первое время не заниматься долгим деплоем, а сразу начать писать код и работать с airflow."
      ]
    },
    {
      "cell_type": "code",
      "metadata": {
        "id": "FRdH-kmLpdiI"
      },
      "source": [
        "import sys\n",
        "sys.path.append(\"/root/airflow/plugins\")\n",
        "sys.path.append(\"/root/airflow/dags\")"
      ],
      "execution_count": 1,
      "outputs": []
    },
    {
      "cell_type": "code",
      "metadata": {
        "id": "VHHKEJQSVn9G"
      },
      "source": [
        "# Установка Airflow\n",
        "!pip install python-telegram-bot\n",
        "!pip install apache-airflow==2.1.4\n",
        "!pip install apache-airflow-providers-http\n",
        "!pip install apache-airflow-providers-telegram\n",
        "\n",
        "!airflow db init"
      ],
      "execution_count": null,
      "outputs": []
    },
    {
      "cell_type": "code",
      "metadata": {
        "id": "3D_wVrfCzkIG"
      },
      "source": [
        "# Создадим папку dags\n",
        "# В этой папке лежат скрипты для создания дагов\n",
        "# Это стандартное имя для  данной папки\n",
        "!mkdir /root/airflow/dags\n",
        "!mkdir /root/airflow/plugins\n",
        "!mkdir /root/airflow/plugins/custom_plugin\n",
        "!mkdir /root/airflow/plugins/custom_plugin/operators\n",
        "!mkdir /root/airflow/plugins/custom_plugin/hooks\n",
        "!mkdir /root/airflow/plugins/custom_plugin/sensors\n",
        "!touch /root/airflow/dags/dag.py\n",
        "!touch /root/airflow/dags/telegram.py\n",
        "!touch /root/airflow/plugins/custom_plugin/__init__.py\n",
        "!touch /root/airflow/plugins/custom_plugin/operators/__init__.py\n",
        "!touch /root/airflow/plugins/custom_plugin/operators/custom_operator.py\n",
        "!touch /root/airflow/plugins/custom_plugin/hooks/__init__.py\n",
        "!touch /root/airflow/plugins/custom_plugin/sensors/__init__.py"
      ],
      "execution_count": 3,
      "outputs": []
    },
    {
      "cell_type": "code",
      "metadata": {
        "id": "EDfieFGwWtLO"
      },
      "source": [
        "# Последующие команды не имеют отношения к Airflow\n",
        "# Они нужни только для корректоной работы веб приложения\n",
        "# в среде Google Colab\n",
        "\n",
        "!pip install pyngrok\n",
        "\n",
        "!ngrok authtoken 1yMOS9zzS85dgM5tk81bQkkL7Lq_6YMxq7UbkBK6LMWPmuPNd # найти его можно https://dashboard.ngrok.com/get-started/setup "
      ],
      "execution_count": null,
      "outputs": []
    },
    {
      "cell_type": "code",
      "metadata": {
        "id": "YS5E4byhXGDu"
      },
      "source": [
        "!airflow users create \\\n",
        "          --username admin \\\n",
        "          --firstname admin \\\n",
        "          --lastname admin \\\n",
        "          --role Admin \\\n",
        "          --email admin@example.org \\\n",
        "          -p 12345"
      ],
      "execution_count": null,
      "outputs": []
    },
    {
      "cell_type": "markdown",
      "metadata": {
        "id": "vb-j9aSfLdFI"
      },
      "source": [
        "### Практика"
      ]
    },
    {
      "cell_type": "markdown",
      "metadata": {
        "id": "EoYMa2fmLhHp"
      },
      "source": [
        "#### Первый плагин"
      ]
    },
    {
      "cell_type": "markdown",
      "metadata": {
        "id": "UXVrohc7Z-52"
      },
      "source": [
        "Поместите в /root/airflow/plugins/custom_operator/operators/custom_operator.py следующий код\n",
        "\n",
        "```python\n",
        "from airflow.models.baseoperator import BaseOperator\n",
        "\n",
        "class HelloOperator(BaseOperator):\n",
        "\n",
        "    def __init__(\n",
        "            self,\n",
        "            name: str,\n",
        "            **kwargs) -> None:\n",
        "        super().__init__(**kwargs)\n",
        "        self.name = name\n",
        "\n",
        "    def execute(self, context):\n",
        "        message = \"Hello {}\".format(self.name)\n",
        "        print(message)\n",
        "        return message\n",
        "```\n",
        "\n"
      ]
    },
    {
      "cell_type": "markdown",
      "metadata": {
        "id": "5R2wb6UB-9MB"
      },
      "source": [
        "Поместите в dag.py следующий код\n",
        "\n",
        "**Задание #1**\n",
        "\n",
        "Сообщение в логе будет ответом к задаче.\n",
        "\n",
        "```python\n",
        "from custom_plugin.operators.custom_operator import HelloOperator\n",
        "from airflow import DAG\n",
        "from datetime import timedelta, datetime\n",
        "from airflow.utils.dates import days_ago\n",
        " \n",
        "# Создадим объект класса DAG\n",
        "dag = DAG(\n",
        "    'dag',\n",
        "    start_date=datetime(2015, 12, 1),\n",
        "    schedule_interval='@daily')\n",
        "hello_task = HelloOperator(task_id='sample-task', name='foo_bar', dag=dag)\n",
        "```"
      ]
    },
    {
      "cell_type": "markdown",
      "metadata": {
        "id": "iv9M_ZvfLnTE"
      },
      "source": [
        "#### Нотификация"
      ]
    },
    {
      "cell_type": "markdown",
      "metadata": {
        "id": "9t_q3dIXLr5S"
      },
      "source": [
        "Вставьте данный код в dag.py\n",
        "\n",
        "**Задание #2**\n",
        "\n",
        "Сообщение в телеграм будет ответом.\n",
        "\n",
        "```python\n",
        "from airflow import DAG\n",
        "from datetime import timedelta, datetime\n",
        "from airflow.utils.dates import days_ago\n",
        "from custom_plugin.operators.custom_operator import HelloOperator\n",
        "from airflow.providers.telegram.operators.telegram import TelegramOperator\n",
        "\n",
        " \n",
        "def on_success_callback(context):\n",
        "    send_message = TelegramOperator(\n",
        "        task_id='send_message_telegram',\n",
        "        telegram_conn_id='telegram_id',\n",
        "        chat_id='-1001525736146',\n",
        "        text='Hello from Airflow!',\n",
        "        dag=dag)\n",
        "    return send_message.execute(context=context)\n",
        "\n",
        "# Создадим объект класса DAG\n",
        "dag = DAG(\n",
        "    'dag',\n",
        "    start_date=datetime(2015, 12, 1),\n",
        "    on_success_callback=on_success_callback,\n",
        "    schedule_interval='@daily')\n",
        "hello_task = HelloOperator(task_id='sample-task', name='foo_bar', dag=dag)\n",
        "```\n",
        "\n",
        "Создайте чат и бота в телеграмме, добавьте бота в чат выдам админские права, создайте **connection** (с именем telegram_id) со следующими параметрами\n",
        "\n",
        "\n",
        "- Password: API Token который можно получить через https://telegram.me/BotFather\n",
        "- Host: ID вашего чата, можно получить добавив в чат @raw_data_bot и написать /my_id\n",
        "- Connection Type: HTTP\n",
        "\n",
        "\n",
        "**Можете воспользоваться моим каналом:**\n",
        "\n",
        "- https://t.me/stepiktelegramtest\n",
        "- TOKEN=1726511562:AAFAfbPk_9gbGjq4VlOg3jbhaXHCxaNRTFA\n",
        "- ID вашего чата: -1001525736146\n"
      ]
    },
    {
      "cell_type": "code",
      "metadata": {
        "id": "a9ZXts1PZpZY"
      },
      "source": [
        "# Перезапустим шедулер\n",
        "# Это должно ускорить поиск нашего дага\n",
        "# Нужно подождать пару минут пока даг появится\n",
        "!airflow scheduler -D"
      ],
      "execution_count": null,
      "outputs": []
    },
    {
      "cell_type": "code",
      "metadata": {
        "id": "15v34MGWWjvc"
      },
      "source": [
        "# Запуск веб сервера\n",
        "!airflow webserver -p 18273 -D"
      ],
      "execution_count": null,
      "outputs": []
    },
    {
      "cell_type": "code",
      "metadata": {
        "id": "24DYGqNkarUg",
        "colab": {
          "base_uri": "https://localhost:8080/"
        },
        "outputId": "725b2555-fe35-471c-f6c3-738abf8d35ee"
      },
      "source": [
        "# Эта команда просто отображет веб морду на другой адрес\n",
        "# Его вы можете найти https://dashboard.ngrok.com/endpoints/status\n",
        "# После запуска посмотрите работает ли интерйфейс, потом выключите данную строку\n",
        "!nohup ngrok http -log=stdout 18273 > /dev/null &"
      ],
      "execution_count": 19,
      "outputs": [
        {
          "output_type": "stream",
          "name": "stdout",
          "text": [
            "nohup: redirecting stderr to stdout\n"
          ]
        }
      ]
    }
  ]
}