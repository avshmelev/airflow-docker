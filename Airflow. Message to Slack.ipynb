{
  "nbformat": 4,
  "nbformat_minor": 0,
  "metadata": {
    "colab": {
      "name": "Проектная работа #3.ipynb",
      "provenance": [],
      "collapsed_sections": [],
      "include_colab_link": true
    },
    "kernelspec": {
      "name": "python3",
      "display_name": "Python 3"
    },
    "language_info": {
      "name": "python"
    }
  },
  "cells": [
    {
      "cell_type": "markdown",
      "metadata": {
        "id": "view-in-github",
        "colab_type": "text"
      },
      "source": [
        "<a href=\"https://colab.research.google.com/github/avshmelev/airflow-docker/blob/main/Airflow.%20Message%20to%20Slack.ipynb\" target=\"_parent\"><img src=\"https://colab.research.google.com/assets/colab-badge.svg\" alt=\"Open In Colab\"/></a>"
      ]
    },
    {
      "cell_type": "markdown",
      "metadata": {
        "id": "dKVsSmoLVx81"
      },
      "source": [
        "### Настройка окружения\n",
        "\n",
        "Для начала вам необходимо выполнить ряд команд чтобы настроить окружение для дальнейшей работы, это позволит первое время не заниматься долгим деплоем, а сразу начать писать код и работать с airflow."
      ]
    },
    {
      "cell_type": "code",
      "metadata": {
        "id": "VHHKEJQSVn9G"
      },
      "source": [
        "# Установка Airflow\n",
        "!pip install apache-airflow==2.1.4\n",
        "!pip install apache-airflow-providers-http\n",
        "#####\n",
        "##### ВАШ КОД Установите Slack Operator\n",
        "#####\n",
        "!pip install apache-airflow[slack]\n",
        "!airflow db init"
      ],
      "execution_count": null,
      "outputs": []
    },
    {
      "cell_type": "code",
      "metadata": {
        "id": "3D_wVrfCzkIG"
      },
      "source": [
        "# Создадим папку dags\n",
        "# В этой папке лежат скрипты для создания дагов\n",
        "# Это стандартное имя для  данной папки\n",
        "!mkdir /root/airflow/dags\n",
        "!touch /root/airflow/dags/dag.py"
      ],
      "execution_count": 2,
      "outputs": []
    },
    {
      "cell_type": "code",
      "metadata": {
        "id": "EDfieFGwWtLO"
      },
      "source": [
        "# Последующие команды не имеют отношения к Airflow\n",
        "# Они нужни только для корректоной работы веб приложения\n",
        "# в среде Google Colab\n",
        "\n",
        "!pip install pyngrok\n",
        "\n",
        "!ngrok authtoken 1yMOS9zzS85dgM5tk81bQkkL7Lq_6YMxq7UbkBK6LMWPmuPNd # найти его можно https://dashboard.ngrok.com/get-started/setup "
      ],
      "execution_count": null,
      "outputs": []
    },
    {
      "cell_type": "code",
      "metadata": {
        "id": "YS5E4byhXGDu",
        "colab": {
          "base_uri": "https://localhost:8080/"
        },
        "outputId": "fde66ed4-4f4c-40f2-ea79-dd7183ec9bcd"
      },
      "source": [
        "!airflow users create \\\n",
        "          --username admin \\\n",
        "          --firstname admin \\\n",
        "          --lastname admin \\\n",
        "          --role Admin \\\n",
        "          --email admin@example.org \\\n",
        "          -p 12345"
      ],
      "execution_count": 4,
      "outputs": [
        {
          "output_type": "stream",
          "name": "stdout",
          "text": [
            "\u001b[1;33m/usr/local/lib/python3.7/dist-packages/psycopg2/\u001b[0m\u001b[1;33m__init__.py\u001b[0m\u001b[1;33m:\u001b[0m\u001b[1;33m144\u001b[0m\u001b[1;33m UserWarning\u001b[0m\u001b[33m: The psycopg2 wheel package will be renamed from release \u001b[0m\u001b[1;33m2.8\u001b[0m\u001b[33m; in order to keep installing from binary please use \u001b[0m\u001b[33m\"pip install psycopg2-binary\"\u001b[0m\u001b[33m instead. For details see: \u001b[0m\u001b[1;33m<\u001b[0m\u001b[4;33mhttp:\u001b[0m\u001b[4;33m//initd.org/psycopg/docs/install.html#binary-install-from-pypi\u001b[0m\u001b[1;33m>\u001b[0m\u001b[33m.\u001b[0m\n",
            "[\u001b[34m2021-10-31 20:50:01,506\u001b[0m] {\u001b[34mmanager.py:\u001b[0m798} \u001b[33mWARNING\u001b[0m - \u001b[33mNo user yet created, use flask fab command to do it.\u001b[0m\n",
            "Admin user admin created\n"
          ]
        }
      ]
    },
    {
      "cell_type": "code",
      "metadata": {
        "id": "iRbvIuUKEc4b",
        "colab": {
          "base_uri": "https://localhost:8080/"
        },
        "outputId": "d61b6312-9404-4b23-c432-d0e8069955b3"
      },
      "source": [
        "# Включим веб-сервер\n",
        "!airflow webserver -p 18273 -D"
      ],
      "execution_count": 5,
      "outputs": [
        {
          "output_type": "stream",
          "name": "stdout",
          "text": [
            "\u001b[1;33m/usr/local/lib/python3.7/dist-packages/psycopg2/\u001b[0m\u001b[1;33m__init__.py\u001b[0m\u001b[1;33m:\u001b[0m\u001b[1;33m144\u001b[0m\u001b[1;33m UserWarning\u001b[0m\u001b[33m: The psycopg2 wheel package will be renamed from release \u001b[0m\u001b[1;33m2.8\u001b[0m\u001b[33m; in order to keep installing from binary please use \u001b[0m\u001b[33m\"pip install psycopg2-binary\"\u001b[0m\u001b[33m instead. For details see: \u001b[0m\u001b[1;33m<\u001b[0m\u001b[4;33mhttp:\u001b[0m\u001b[4;33m//initd.org/psycopg/docs/install.html#binary-install-from-pypi\u001b[0m\u001b[1;33m>\u001b[0m\u001b[33m.\u001b[0m\n",
            "  ____________       _____________\n",
            " ____    |__( )_________  __/__  /________      __\n",
            "____  /| |_  /__  ___/_  /_ __  /_  __ \\_ | /| / /\n",
            "___  ___ |  / _  /   _  __/ _  / / /_/ /_ |/ |/ /\n",
            " _/_/  |_/_/  /_/    /_/    /_/  \\____/____/|__/\n",
            "[\u001b[34m2021-10-31 20:50:48,496\u001b[0m] {\u001b[34mdagbag.py:\u001b[0m496} INFO\u001b[0m - Filling up the DagBag from \u001b[01m/dev/null\u001b[22m\u001b[0m\n",
            "Running the Gunicorn Server with:\n",
            "Workers: 4 sync\n",
            "Host: 0.0.0.0:18273\n",
            "Timeout: 120\n",
            "Logfiles: - -\n",
            "Access Logformat: \n",
            "=================================================================            \n"
          ]
        }
      ]
    },
    {
      "cell_type": "code",
      "metadata": {
        "id": "EE6WIjd2Ect1",
        "colab": {
          "base_uri": "https://localhost:8080/"
        },
        "outputId": "d34e31fd-a289-4ce6-c185-2b94e0a96bff"
      },
      "source": [
        "# Запуск шедулера\n",
        "!airflow scheduler -D"
      ],
      "execution_count": 6,
      "outputs": [
        {
          "output_type": "stream",
          "name": "stdout",
          "text": [
            "  ____________       _____________\n",
            " ____    |__( )_________  __/__  /________      __\n",
            "____  /| |_  /__  ___/_  /_ __  /_  __ \\_ | /| / /\n",
            "___  ___ |  / _  /   _  __/ _  / / /_/ /_ |/ |/ /\n",
            " _/_/  |_/_/  /_/    /_/    /_/  \\____/____/|__/\n"
          ]
        }
      ]
    },
    {
      "cell_type": "code",
      "metadata": {
        "id": "UeQ0mgW7Eh4c",
        "colab": {
          "base_uri": "https://localhost:8080/"
        },
        "outputId": "91450a29-1d2f-4358-8e81-3dd00312de7c"
      },
      "source": [
        "# Эта команда просто отображет веб морду на другой адрес\n",
        "# Его вы можете найти https://dashboard.ngrok.com/endpoints/status\n",
        "# При каждом отключении ссылка будет меняться\n",
        "!nohup ngrok http -log=stdout 18273 > /dev/null &"
      ],
      "execution_count": 7,
      "outputs": [
        {
          "output_type": "stream",
          "name": "stdout",
          "text": [
            "nohup: redirecting stderr to stdout\n"
          ]
        }
      ]
    },
    {
      "cell_type": "markdown",
      "metadata": {
        "id": "NYtYIZutPFOv"
      },
      "source": [
        "### Задача на разработку\n",
        "\n",
        "Необходимо реализовать PythonOperator который будет бросать исключение raise AirflowException самостоятельно изучите [данный](https://airflow.apache.org/docs/apache-airflow/stable/_modules/airflow/exceptions.html) материал. После этого реализуйте функцию которая будет отправлять сообщение в Slack при failed, решение задачи можно взять вот [тут](https://medium.com/datareply/integrating-slack-alerts-in-airflow-c9dcd155105). Нужно создать Slack пространство."
      ]
    },
    {
      "cell_type": "code",
      "metadata": {
        "id": "5RZSvfnAPHHk"
      },
      "source": [
        "## ВАШЕ РЕШЕНИЕ\n",
        "from airflow import DAG\n",
        "from datetime import datetime\n",
        "from airflow.utils.dates import days_ago\n",
        "from airflow.hooks.base_hook import BaseHook\n",
        "from airflow.operators.python import PythonOperator\n",
        "from airflow.contrib.operators.slack_webhook_operator import SlackWebhookOperator\n",
        "from airflow.exceptions import AirflowException\n",
        "\n",
        "\n",
        "SLACK_CONN_ID = 'slack'\n",
        "\n",
        "\n",
        "def raise_airflow_exception():\n",
        "  raise AirflowException\n",
        "\n",
        "\n",
        "def callback_if_failed(context):\n",
        "  slack_token = BaseHook.get_connection(SLACK_CONN_ID).password\n",
        "  slack_msg = f'Task Failed\\n'  \\\n",
        "              f'Task: {context.get(\"task_instance\").task_id}\\n'  \\\n",
        "              f'DAG: {context.get(\"task_instance\").dag_id}\\n'  \\\n",
        "              f'Excec_date: {context.get(\"execution_date\")}\\n'  \\\n",
        "              f'Log_url: {context.get(\"task_instance\").log_url}'\n",
        "\n",
        "  failed_alert = SlackWebhookOperator(\n",
        "      task_id = 'send_slack_msg',\n",
        "      http_conn_id = 'slack',\n",
        "      webhook_token = slack_token,\n",
        "      message = slack_msg,      \n",
        "      username = 'airflow'\n",
        "  )\n",
        "\n",
        "  return failed_alert.execute(context=context)\n",
        "\n",
        "\n",
        "dag = DAG(\n",
        "          dag_id='slack_dag',\n",
        "          on_failure_callback=callback_if_failed,\n",
        "          schedule_interval='@daily',\n",
        "          start_date=days_ago(5))\n",
        "\n",
        "failed_task = PythonOperator(\n",
        "    task_id='raise_exception',\n",
        "    python_callable=raise_airflow_exception,\n",
        "    dag=dag\n",
        ")"
      ],
      "execution_count": null,
      "outputs": []
    }
  ]
}